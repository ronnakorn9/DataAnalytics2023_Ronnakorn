{
 "cells": [
  {
   "cell_type": "code",
   "execution_count": 1,
   "metadata": {},
   "outputs": [],
   "source": [
    "import spacy\n",
    "import json\n",
    "import pandas as pd"
   ]
  },
  {
   "cell_type": "code",
   "execution_count": 2,
   "metadata": {},
   "outputs": [],
   "source": [
    "nlp = spacy.load(\"./model/text_classify/gpu_small/model-best\")\n",
    "nlp2 = spacy.load(\"./model/span_classify/gpu_large/model-best\")"
   ]
  },
  {
   "cell_type": "code",
   "execution_count": 9,
   "metadata": {},
   "outputs": [],
   "source": [
    "text = \"Scientists plan to melt moondust to make lunar roads. Astronauts may have to do more moon-driving than moon-walking during future missions.\"\n",
    "text= \"Apple is evil\"\n",
    "# text= \"I think Mesmer is lovely and we should support her\"\n",
    "doc = nlp(text)\n",
    "doc2 = nlp2(text)"
   ]
  },
  {
   "cell_type": "code",
   "execution_count": 10,
   "metadata": {},
   "outputs": [
    {
     "name": "stdout",
     "output_type": "stream",
     "text": [
      "span 0 ===============\n",
      "text: evil\n",
      "techniques: Loaded Language\n",
      "size: 1\n"
     ]
    },
    {
     "data": {
      "text/plain": [
       "{'Appeal to authority': 0.0030814427882432938,\n",
       " 'Appeal to fear/prejudice': 0.0002301268104929477,\n",
       " 'Black-and-white Fallacy/Dictatorship': 0.0027185927610844374,\n",
       " 'Causal Oversimplification': 0.001773881958797574,\n",
       " 'Doubt': 0.07420330494642258,\n",
       " 'Exaggeration/Minimisation': 0.0010372392134740949,\n",
       " 'Flag-waving': 0.005943807773292065,\n",
       " 'Glittering generalities (Virtue)': 0.00138212856836617,\n",
       " 'Loaded Language': 0.9994925260543823,\n",
       " \"Misrepresentation of Someone's Position (Straw Man)\": 0.0005612195236608386,\n",
       " 'Name calling/Labeling': 0.9987233281135559,\n",
       " 'Obfuscation, Intentional vagueness, Confusion': 0.0014060321263968945,\n",
       " 'Presenting Irrelevant Data (Red Herring)': 0.0003799459373112768,\n",
       " 'Reductio ad hitlerum': 0.006162008736282587,\n",
       " 'Repetition': 0.007284569554030895,\n",
       " 'Slogans': 0.0005438710213638842,\n",
       " 'Smears': 0.0136410566046834,\n",
       " 'Thought-terminating cliché': 0.001077373162843287,\n",
       " 'Whataboutism': 0.004899241495877504,\n",
       " 'Bandwagon': 0.0011709806276485324}"
      ]
     },
     "execution_count": 10,
     "metadata": {},
     "output_type": "execute_result"
    }
   ],
   "source": [
    "for i, span in enumerate(doc2.spans[\"sc\"]):\n",
    "    print(f\"span {i} ===============\")\n",
    "    print(f\"text: {span.text}\")\n",
    "    print(f\"techniques: {span.label_}\")\n",
    "    print(f\"size: {len(span)}\")\n",
    "doc.cats"
   ]
  },
  {
   "cell_type": "code",
   "execution_count": 31,
   "metadata": {},
   "outputs": [
    {
     "data": {
      "text/plain": [
       "[think, said, ridiculous]"
      ]
     },
     "execution_count": 31,
     "metadata": {},
     "output_type": "execute_result"
    }
   ],
   "source": [
    "# [token for token in doc]\n",
    "[token for token in doc if not token.is_stop and not token.is_punct and not token.text.isspace()]"
   ]
  },
  {
   "cell_type": "code",
   "execution_count": 5,
   "metadata": {},
   "outputs": [
    {
     "data": {
      "text/plain": [
       "array([[1, 2, 3],\n",
       "       [1, 2, 3],\n",
       "       [1, 2, 3],\n",
       "       [1, 2, 3],\n",
       "       [1, 2, 3],\n",
       "       [1, 2, 3],\n",
       "       [1, 2, 3],\n",
       "       [1, 2, 3],\n",
       "       [1, 2, 3],\n",
       "       [1, 2, 3]])"
      ]
     },
     "execution_count": 5,
     "metadata": {},
     "output_type": "execute_result"
    }
   ],
   "source": [
    "import numpy as np\n",
    "\n",
    "# a = np.array([1,2,3])\n",
    "comb = None\n",
    "\n",
    "for i in range(10):\n",
    "    a = np.array([1,2,3])\n",
    "    if comb is None:\n",
    "        comb = a\n",
    "    else:\n",
    "        comb = np.vstack((comb,a))\n",
    "comb"
   ]
  },
  {
   "cell_type": "code",
   "execution_count": 36,
   "metadata": {},
   "outputs": [
    {
     "data": {
      "text/plain": [
       "'Smears'"
      ]
     },
     "execution_count": 36,
     "metadata": {},
     "output_type": "execute_result"
    }
   ],
   "source": [
    "max(doc.cats, key=doc.cats.get)"
   ]
  },
  {
   "cell_type": "code",
   "execution_count": 34,
   "metadata": {},
   "outputs": [
    {
     "data": {
      "text/plain": [
       "[('Smears', 0.7295905947685242),\n",
       " ('Name calling/Labeling', 0.30440273880958557),\n",
       " ('Loaded Language', 0.1483118236064911),\n",
       " ('Reductio ad hitlerum', 0.0471385158598423),\n",
       " ('Appeal to authority', 0.021986592561006546)]"
      ]
     },
     "execution_count": 34,
     "metadata": {},
     "output_type": "execute_result"
    }
   ],
   "source": [
    "sorted(doc.cats.items(), key=lambda x: x[1], reverse=True)[:5]"
   ]
  }
 ],
 "metadata": {
  "kernelspec": {
   "display_name": "venv",
   "language": "python",
   "name": "python3"
  },
  "language_info": {
   "codemirror_mode": {
    "name": "ipython",
    "version": 3
   },
   "file_extension": ".py",
   "mimetype": "text/x-python",
   "name": "python",
   "nbconvert_exporter": "python",
   "pygments_lexer": "ipython3",
   "version": "3.8.5"
  }
 },
 "nbformat": 4,
 "nbformat_minor": 2
}
